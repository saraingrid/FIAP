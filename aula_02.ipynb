{
 "cells": [
  {
   "cell_type": "code",
   "execution_count": 6,
   "id": "af4863c1",
   "metadata": {},
   "outputs": [
    {
     "name": "stdout",
     "output_type": "stream",
     "text": [
      "Informe a sua idade:27\n"
     ]
    }
   ],
   "source": [
    "idade = input('Informe a sua idade:')"
   ]
  },
  {
   "cell_type": "code",
   "execution_count": 7,
   "id": "24ad0d11",
   "metadata": {},
   "outputs": [
    {
     "data": {
      "text/plain": [
       "'27'"
      ]
     },
     "execution_count": 7,
     "metadata": {},
     "output_type": "execute_result"
    }
   ],
   "source": [
    "idade"
   ]
  },
  {
   "cell_type": "markdown",
   "id": "94acb853",
   "metadata": {},
   "source": [
    "compilador = pega seu codigo e transforma num código binário para a maquina ler.\n",
    "interpretador python = ele lê seu código linha a linha e já traz o resultado.\n",
    "ler o pep 8 (python 2001), ele traz normas de estilo para o código ficar padronizado."
   ]
  },
  {
   "cell_type": "code",
   "execution_count": 8,
   "id": "e2f25268",
   "metadata": {},
   "outputs": [
    {
     "name": "stdout",
     "output_type": "stream",
     "text": [
      "27 x abc\n"
     ]
    }
   ],
   "source": [
    "print(idade, 'x', 'abc')"
   ]
  },
  {
   "cell_type": "code",
   "execution_count": 15,
   "id": "f88f1c3a",
   "metadata": {},
   "outputs": [
    {
     "name": "stdout",
     "output_type": "stream",
     "text": [
      "Sua idade é 27\n"
     ]
    }
   ],
   "source": [
    "print(f'Sua idade é {idade}')"
   ]
  },
  {
   "cell_type": "code",
   "execution_count": 19,
   "id": "7425ef5a",
   "metadata": {},
   "outputs": [
    {
     "name": "stdout",
     "output_type": "stream",
     "text": [
      "Sua idade é 37, 37\n"
     ]
    }
   ],
   "source": [
    "print('Sua idade é {a}, {a}'.format(a=idade,b=23))"
   ]
  },
  {
   "cell_type": "code",
   "execution_count": 17,
   "id": "9f12ab96",
   "metadata": {},
   "outputs": [],
   "source": [
    "nome = 'Sara'\n",
    "idade = 37\n",
    "altura = 1.70\n",
    "usuario_python = True"
   ]
  },
  {
   "cell_type": "code",
   "execution_count": 18,
   "id": "318f25da",
   "metadata": {},
   "outputs": [
    {
     "data": {
      "text/plain": [
       "str"
      ]
     },
     "execution_count": 18,
     "metadata": {},
     "output_type": "execute_result"
    }
   ],
   "source": [
    "type (nome)"
   ]
  },
  {
   "cell_type": "code",
   "execution_count": 20,
   "id": "f62e3163",
   "metadata": {},
   "outputs": [
    {
     "data": {
      "text/plain": [
       "(str, int, float, bool)"
      ]
     },
     "execution_count": 20,
     "metadata": {},
     "output_type": "execute_result"
    }
   ],
   "source": [
    "type(nome,), type(idade), type(altura), type(usuario_python)"
   ]
  },
  {
   "cell_type": "code",
   "execution_count": 21,
   "id": "02581eaf",
   "metadata": {},
   "outputs": [
    {
     "data": {
      "text/plain": [
       "1.7"
      ]
     },
     "execution_count": 21,
     "metadata": {},
     "output_type": "execute_result"
    }
   ],
   "source": [
    "altura"
   ]
  },
  {
   "cell_type": "code",
   "execution_count": 26,
   "id": "57cfae27",
   "metadata": {},
   "outputs": [
    {
     "data": {
      "text/plain": [
       "'1.70'"
      ]
     },
     "execution_count": 26,
     "metadata": {},
     "output_type": "execute_result"
    }
   ],
   "source": [
    "#aqui eu formato a quantidade de casas decimais\n",
    "f'{altura:.2f}'"
   ]
  },
  {
   "cell_type": "code",
   "execution_count": 33,
   "id": "3a45652a",
   "metadata": {},
   "outputs": [
    {
     "name": "stdout",
     "output_type": "stream",
     "text": [
      "Qual a idade do cliente? 37\n"
     ]
    }
   ],
   "source": [
    "idade_cliente = input('Qual a idade do cliente? ')"
   ]
  },
  {
   "cell_type": "code",
   "execution_count": 36,
   "id": "0da1e384",
   "metadata": {},
   "outputs": [
    {
     "data": {
      "text/plain": [
       "37.0"
      ]
     },
     "execution_count": 36,
     "metadata": {},
     "output_type": "execute_result"
    }
   ],
   "source": [
    "float(idade_cliente)"
   ]
  },
  {
   "cell_type": "code",
   "execution_count": 38,
   "id": "bcfac0c2",
   "metadata": {},
   "outputs": [
    {
     "data": {
      "text/plain": [
       "37"
      ]
     },
     "execution_count": 38,
     "metadata": {},
     "output_type": "execute_result"
    }
   ],
   "source": [
    "int(idade_cliente)"
   ]
  },
  {
   "cell_type": "code",
   "execution_count": 32,
   "id": "425d331c",
   "metadata": {},
   "outputs": [
    {
     "data": {
      "text/plain": [
       "int"
      ]
     },
     "execution_count": 32,
     "metadata": {},
     "output_type": "execute_result"
    }
   ],
   "source": [
    "type(idade)"
   ]
  },
  {
   "cell_type": "code",
   "execution_count": 42,
   "id": "dd09249d",
   "metadata": {},
   "outputs": [
    {
     "data": {
      "text/plain": [
       "'99988815'"
      ]
     },
     "execution_count": 42,
     "metadata": {},
     "output_type": "execute_result"
    }
   ],
   "source": [
    "#criando uma função\n",
    "str(int(cpf))"
   ]
  },
  {
   "cell_type": "code",
   "execution_count": 41,
   "id": "c8fca6d4",
   "metadata": {},
   "outputs": [],
   "source": [
    "cpf ='00099988815'"
   ]
  },
  {
   "cell_type": "code",
   "execution_count": 43,
   "id": "a1bdfd51",
   "metadata": {},
   "outputs": [
    {
     "data": {
      "text/plain": [
       "'00099988815'"
      ]
     },
     "execution_count": 43,
     "metadata": {},
     "output_type": "execute_result"
    }
   ],
   "source": [
    "('0' * 3) + str(int(cpf))"
   ]
  },
  {
   "cell_type": "code",
   "execution_count": 45,
   "id": "ce2cb252",
   "metadata": {},
   "outputs": [
    {
     "data": {
      "text/plain": [
       "True"
      ]
     },
     "execution_count": 45,
     "metadata": {},
     "output_type": "execute_result"
    }
   ],
   "source": [
    "bool(1)"
   ]
  },
  {
   "cell_type": "code",
   "execution_count": 47,
   "id": "aa177efd",
   "metadata": {},
   "outputs": [],
   "source": [
    "x = 1"
   ]
  },
  {
   "cell_type": "code",
   "execution_count": 52,
   "id": "56d25774",
   "metadata": {},
   "outputs": [],
   "source": [
    "x += 1"
   ]
  },
  {
   "cell_type": "code",
   "execution_count": 53,
   "id": "e5d790c4",
   "metadata": {},
   "outputs": [
    {
     "data": {
      "text/plain": [
       "4"
      ]
     },
     "execution_count": 53,
     "metadata": {},
     "output_type": "execute_result"
    }
   ],
   "source": [
    "x"
   ]
  },
  {
   "cell_type": "code",
   "execution_count": 54,
   "id": "3c2c28b0",
   "metadata": {},
   "outputs": [],
   "source": [
    "s = '0'"
   ]
  },
  {
   "cell_type": "code",
   "execution_count": 55,
   "id": "8cecdde5",
   "metadata": {},
   "outputs": [],
   "source": [
    "s+= \"1\""
   ]
  },
  {
   "cell_type": "code",
   "execution_count": 56,
   "id": "832fe911",
   "metadata": {},
   "outputs": [
    {
     "data": {
      "text/plain": [
       "'01'"
      ]
     },
     "execution_count": 56,
     "metadata": {},
     "output_type": "execute_result"
    }
   ],
   "source": [
    "s"
   ]
  },
  {
   "cell_type": "code",
   "execution_count": 57,
   "id": "817b0682",
   "metadata": {},
   "outputs": [],
   "source": [
    "s = '1'"
   ]
  },
  {
   "cell_type": "code",
   "execution_count": 58,
   "id": "54e089bc",
   "metadata": {},
   "outputs": [],
   "source": [
    "s = s + '0'"
   ]
  },
  {
   "cell_type": "code",
   "execution_count": 59,
   "id": "ea1ad214",
   "metadata": {},
   "outputs": [],
   "source": [
    "s += '3'"
   ]
  },
  {
   "cell_type": "code",
   "execution_count": 60,
   "id": "fd1bc90c",
   "metadata": {},
   "outputs": [
    {
     "data": {
      "text/plain": [
       "'103'"
      ]
     },
     "execution_count": 60,
     "metadata": {},
     "output_type": "execute_result"
    }
   ],
   "source": [
    "s"
   ]
  },
  {
   "cell_type": "code",
   "execution_count": 61,
   "id": "11ae923e",
   "metadata": {},
   "outputs": [
    {
     "data": {
      "text/plain": [
       "False"
      ]
     },
     "execution_count": 61,
     "metadata": {},
     "output_type": "execute_result"
    }
   ],
   "source": [
    "x == s"
   ]
  },
  {
   "cell_type": "code",
   "execution_count": 62,
   "id": "c62a044f",
   "metadata": {},
   "outputs": [
    {
     "data": {
      "text/plain": [
       "True"
      ]
     },
     "execution_count": 62,
     "metadata": {},
     "output_type": "execute_result"
    }
   ],
   "source": [
    "# verificar se as variaveis sao diferentes\n",
    "x != s"
   ]
  },
  {
   "cell_type": "code",
   "execution_count": 63,
   "id": "643f6848",
   "metadata": {},
   "outputs": [],
   "source": [
    "x = str(x)"
   ]
  },
  {
   "cell_type": "code",
   "execution_count": 64,
   "id": "71a7d457",
   "metadata": {},
   "outputs": [
    {
     "data": {
      "text/plain": [
       "'4'"
      ]
     },
     "execution_count": 64,
     "metadata": {},
     "output_type": "execute_result"
    }
   ],
   "source": [
    "x"
   ]
  },
  {
   "cell_type": "code",
   "execution_count": 65,
   "id": "c419d676",
   "metadata": {
    "scrolled": true
   },
   "outputs": [
    {
     "data": {
      "text/plain": [
       "4"
      ]
     },
     "execution_count": 65,
     "metadata": {},
     "output_type": "execute_result"
    }
   ],
   "source": [
    "int(x)"
   ]
  },
  {
   "cell_type": "markdown",
   "id": "ab2e7347",
   "metadata": {},
   "source": [
    "# sistema boleano"
   ]
  },
  {
   "cell_type": "code",
   "execution_count": 69,
   "id": "a969a664",
   "metadata": {
    "scrolled": true
   },
   "outputs": [
    {
     "data": {
      "text/plain": [
       "True"
      ]
     },
     "execution_count": 69,
     "metadata": {},
     "output_type": "execute_result"
    }
   ],
   "source": [
    "not True == False"
   ]
  },
  {
   "cell_type": "code",
   "execution_count": 70,
   "id": "1aabaf9f",
   "metadata": {
    "scrolled": true
   },
   "outputs": [
    {
     "data": {
      "text/plain": [
       "False"
      ]
     },
     "execution_count": 70,
     "metadata": {},
     "output_type": "execute_result"
    }
   ],
   "source": [
    "not True != False"
   ]
  },
  {
   "cell_type": "code",
   "execution_count": 71,
   "id": "9e1d17b6",
   "metadata": {},
   "outputs": [
    {
     "data": {
      "text/plain": [
       "True"
      ]
     },
     "execution_count": 71,
     "metadata": {},
     "output_type": "execute_result"
    }
   ],
   "source": [
    "True and True"
   ]
  },
  {
   "cell_type": "code",
   "execution_count": 72,
   "id": "ce665814",
   "metadata": {},
   "outputs": [
    {
     "data": {
      "text/plain": [
       "False"
      ]
     },
     "execution_count": 72,
     "metadata": {},
     "output_type": "execute_result"
    }
   ],
   "source": [
    "True and False"
   ]
  },
  {
   "cell_type": "code",
   "execution_count": 73,
   "id": "916b859e",
   "metadata": {},
   "outputs": [
    {
     "data": {
      "text/plain": [
       "True"
      ]
     },
     "execution_count": 73,
     "metadata": {},
     "output_type": "execute_result"
    }
   ],
   "source": [
    "True or True"
   ]
  },
  {
   "cell_type": "code",
   "execution_count": 74,
   "id": "a5cc74b0",
   "metadata": {},
   "outputs": [
    {
     "data": {
      "text/plain": [
       "True"
      ]
     },
     "execution_count": 74,
     "metadata": {},
     "output_type": "execute_result"
    }
   ],
   "source": [
    "True or False"
   ]
  },
  {
   "cell_type": "code",
   "execution_count": 75,
   "id": "c4044fee",
   "metadata": {},
   "outputs": [
    {
     "data": {
      "text/plain": [
       "False"
      ]
     },
     "execution_count": 75,
     "metadata": {},
     "output_type": "execute_result"
    }
   ],
   "source": [
    "False or False"
   ]
  },
  {
   "cell_type": "code",
   "execution_count": 76,
   "id": "d2501ff7",
   "metadata": {},
   "outputs": [
    {
     "data": {
      "text/plain": [
       "False"
      ]
     },
     "execution_count": 76,
     "metadata": {},
     "output_type": "execute_result"
    }
   ],
   "source": [
    "# xor = apenas um pode ser verdadeiro seu simbolo é: ^\n",
    "True ^ True"
   ]
  },
  {
   "cell_type": "code",
   "execution_count": 77,
   "id": "b1fa2fa5",
   "metadata": {},
   "outputs": [
    {
     "data": {
      "text/plain": [
       "True"
      ]
     },
     "execution_count": 77,
     "metadata": {},
     "output_type": "execute_result"
    }
   ],
   "source": [
    "not (True and True) or (True or False) or (False)"
   ]
  },
  {
   "cell_type": "code",
   "execution_count": 80,
   "id": "9040d584",
   "metadata": {},
   "outputs": [
    {
     "data": {
      "text/plain": [
       "False"
      ]
     },
     "execution_count": 80,
     "metadata": {},
     "output_type": "execute_result"
    }
   ],
   "source": [
    "Ficante1 = True\n",
    "Ficante2 = True\n",
    "\n",
    "not (Ficante1 and Ficante2) and (Ficante1 or Ficante2)"
   ]
  },
  {
   "cell_type": "code",
   "execution_count": 86,
   "id": "15183fbc",
   "metadata": {},
   "outputs": [
    {
     "data": {
      "text/plain": [
       "True"
      ]
     },
     "execution_count": 86,
     "metadata": {},
     "output_type": "execute_result"
    }
   ],
   "source": [
    "'ab' > 'aa'"
   ]
  },
  {
   "cell_type": "code",
   "execution_count": 88,
   "id": "e776192b",
   "metadata": {},
   "outputs": [
    {
     "data": {
      "text/plain": [
       "False"
      ]
     },
     "execution_count": 88,
     "metadata": {},
     "output_type": "execute_result"
    }
   ],
   "source": [
    "'ab' > 'ac'"
   ]
  },
  {
   "cell_type": "code",
   "execution_count": 89,
   "id": "6a4ec918",
   "metadata": {},
   "outputs": [
    {
     "data": {
      "text/plain": [
       "2.0"
      ]
     },
     "execution_count": 89,
     "metadata": {},
     "output_type": "execute_result"
    }
   ],
   "source": [
    "4 ** 2 / 8"
   ]
  },
  {
   "cell_type": "code",
   "execution_count": 90,
   "id": "87a8bec4",
   "metadata": {},
   "outputs": [
    {
     "data": {
      "text/plain": [
       "2"
      ]
     },
     "execution_count": 90,
     "metadata": {},
     "output_type": "execute_result"
    }
   ],
   "source": [
    "4 ** 2 // 8"
   ]
  },
  {
   "cell_type": "code",
   "execution_count": 91,
   "id": "22cfddc6",
   "metadata": {},
   "outputs": [
    {
     "data": {
      "text/plain": [
       "2"
      ]
     },
     "execution_count": 91,
     "metadata": {},
     "output_type": "execute_result"
    }
   ],
   "source": [
    "# porcetagem retorna o resto da divisão: %\n",
    "\n",
    "10 % 4"
   ]
  },
  {
   "cell_type": "code",
   "execution_count": 92,
   "id": "94df8750",
   "metadata": {},
   "outputs": [
    {
     "data": {
      "text/plain": [
       "2"
      ]
     },
     "execution_count": 92,
     "metadata": {},
     "output_type": "execute_result"
    }
   ],
   "source": [
    "# duas barras trunca o resultado, ou seja, se a divisão não for inteira ele ignora o resto após a virgula\n",
    "\n",
    "10  // 4 "
   ]
  },
  {
   "cell_type": "code",
   "execution_count": 93,
   "id": "923e41c3",
   "metadata": {},
   "outputs": [
    {
     "data": {
      "text/plain": [
       "2.5"
      ]
     },
     "execution_count": 93,
     "metadata": {},
     "output_type": "execute_result"
    }
   ],
   "source": [
    "10 / 4 "
   ]
  },
  {
   "cell_type": "code",
   "execution_count": 94,
   "id": "74166474",
   "metadata": {},
   "outputs": [],
   "source": [
    "numero_float = 10.51"
   ]
  },
  {
   "cell_type": "code",
   "execution_count": 95,
   "id": "d3d30482",
   "metadata": {},
   "outputs": [
    {
     "data": {
      "text/plain": [
       "11"
      ]
     },
     "execution_count": 95,
     "metadata": {},
     "output_type": "execute_result"
    }
   ],
   "source": [
    "round(numero_float)"
   ]
  },
  {
   "cell_type": "code",
   "execution_count": 96,
   "id": "acace4df",
   "metadata": {},
   "outputs": [],
   "source": [
    "# string é uma lista de char conectado (char é o tipo primitivo)"
   ]
  },
  {
   "cell_type": "code",
   "execution_count": null,
   "id": "2bd792e3",
   "metadata": {},
   "outputs": [],
   "source": []
  }
 ],
 "metadata": {
  "kernelspec": {
   "display_name": "Python 3 (ipykernel)",
   "language": "python",
   "name": "python3"
  },
  "language_info": {
   "codemirror_mode": {
    "name": "ipython",
    "version": 3
   },
   "file_extension": ".py",
   "mimetype": "text/x-python",
   "name": "python",
   "nbconvert_exporter": "python",
   "pygments_lexer": "ipython3",
   "version": "3.11.4"
  }
 },
 "nbformat": 4,
 "nbformat_minor": 5
}
