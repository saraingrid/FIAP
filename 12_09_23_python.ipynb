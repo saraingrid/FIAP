{
 "cells": [
  {
   "cell_type": "code",
   "execution_count": 1,
   "metadata": {},
   "outputs": [
    {
     "name": "stdout",
     "output_type": "stream",
     "text": [
      "sara\n"
     ]
    }
   ],
   "source": [
    "print('sara')"
   ]
  },
  {
   "cell_type": "code",
   "execution_count": 4,
   "metadata": {},
   "outputs": [
    {
     "name": "stdout",
     "output_type": "stream",
     "text": [
      "a\n",
      "e\n",
      "a\n",
      "a\n",
      "a\n"
     ]
    }
   ],
   "source": [
    "for i in 'Vagner Amaral'.lower():\n",
    "    if i in['a', 'e', 'i', 'o', 'u']:\n",
    "        print(i)"
   ]
  },
  {
   "cell_type": "code",
   "execution_count": 9,
   "metadata": {},
   "outputs": [
    {
     "name": "stdout",
     "output_type": "stream",
     "text": [
      "a\n",
      "e\n"
     ]
    }
   ],
   "source": [
    "vogais_encontradas = []\n",
    "for i in 'Vagner Amaral'.lower():\n",
    "    \n",
    "    if i in ['a', 'e', 'i', 'o', 'u']:\n",
    "        if not i in vogais_encontradas:\n",
    "            print(i)\n",
    "            vogais_encontradas.append(i)"
   ]
  },
  {
   "cell_type": "code",
   "execution_count": 10,
   "metadata": {},
   "outputs": [
    {
     "data": {
      "text/plain": [
       "[2, 4, 4, 8]"
      ]
     },
     "execution_count": 10,
     "metadata": {},
     "output_type": "execute_result"
    }
   ],
   "source": [
    "[i * 2 if i % 2 == 0 else i + 1 for i in [1, 2, 3, 4]]"
   ]
  },
  {
   "cell_type": "code",
   "execution_count": 11,
   "metadata": {},
   "outputs": [
    {
     "data": {
      "text/plain": [
       "[2, 4, 4, 8, 6, 16]"
      ]
     },
     "execution_count": 11,
     "metadata": {},
     "output_type": "execute_result"
    }
   ],
   "source": [
    "[i * 2 if i % 2 == 0 else i + 1 \n",
    " for i in [1, 2, 3, 4, 5, 8]]"
   ]
  },
  {
   "cell_type": "code",
   "execution_count": 15,
   "metadata": {},
   "outputs": [
    {
     "data": {
      "text/plain": [
       "[2, 4, 4, 6, 12, 8, 10, 20, 12]"
      ]
     },
     "execution_count": 15,
     "metadata": {},
     "output_type": "execute_result"
    }
   ],
   "source": [
    "[\n",
    "    i *2 if i % 2 == 0 else i + 1\n",
    "    for i in [1, 2, 3, 4, 5, 6, 7, 8, 9,10 ,11, 12]\n",
    "    if i % 4 != 0\n",
    "]"
   ]
  },
  {
   "cell_type": "code",
   "execution_count": 19,
   "metadata": {},
   "outputs": [
    {
     "data": {
      "text/plain": [
       "[(4, 8), (8, 16), (12, 24)]"
      ]
     },
     "execution_count": 19,
     "metadata": {},
     "output_type": "execute_result"
    }
   ],
   "source": [
    "[\n",
    "    (i, i * 2) if i % 2 == 0 else (i, i + 1)\n",
    "    for i in [1, 2, 3, 4, 5, 6, 7, 8, 9,10 ,11, 12]\n",
    "    if i % 4 == 0\n",
    "]"
   ]
  },
  {
   "cell_type": "code",
   "execution_count": 21,
   "metadata": {},
   "outputs": [
    {
     "data": {
      "text/plain": [
       "[2, 4, 4, 6, 12, 8, 10, 20, 12]"
      ]
     },
     "execution_count": 21,
     "metadata": {},
     "output_type": "execute_result"
    }
   ],
   "source": [
    "[ i *2 if i % 2 == 0 else i + 1\n",
    "for i in range (1, 13)\n",
    "    if i % 4 != 0\n",
    "]"
   ]
  },
  {
   "cell_type": "code",
   "execution_count": 2,
   "metadata": {},
   "outputs": [
    {
     "name": "stdout",
     "output_type": "stream",
     "text": [
      "Chave:nome - valor: Sara\n",
      "Chave:idade - valor: 27\n",
      "Chave:altura - valor: 1.61\n",
      "Chave:usuario_python - valor: True\n"
     ]
    }
   ],
   "source": [
    "cadastro = {\n",
    "    'nome' : 'Sara',\n",
    "    'idade': '27',\n",
    "    'altura': 1.61,\n",
    "    'usuario_python': True\n",
    "}\n",
    "\n",
    "for chave, valor in cadastro.items():\n",
    "    print(f'Chave:{chave} - valor: {valor}')"
   ]
  },
  {
   "cell_type": "code",
   "execution_count": 3,
   "metadata": {},
   "outputs": [
    {
     "name": "stdout",
     "output_type": "stream",
     "text": [
      "Chave:nome - Valor:Sara\n",
      "Chave:idade - Valor:27\n",
      "Chave:altura - Valor:1.61\n",
      "Chave:usuario_python - Valor:True\n"
     ]
    }
   ],
   "source": [
    "for linha in cadastro.items():\n",
    "    print(f'Chave:{linha[0]} - Valor:{linha[1]}')"
   ]
  },
  {
   "cell_type": "code",
   "execution_count": 25,
   "metadata": {},
   "outputs": [
    {
     "name": "stdout",
     "output_type": "stream",
     "text": [
      "Produto: {'Banana': '12 unidades', 'Ovo': '80 unidades', 'Aveia': '2 caixas', 'Peito de Frango': '5 kgs'}, quantidade: {2, 3, 4}\n"
     ]
    }
   ],
   "source": [
    "Produto = {\n",
    "    'Banana': '12 unidades',\n",
    "    'Ovo': '80 unidades',\n",
    "    'Aveia': '2 caixas',\n",
    "    'Peito de Frango' : '5 kgs'\n",
    "}\n",
    "\n",
    "\n",
    "print(f'Produto: {Produto}, quantidade: {Quantidade}')"
   ]
  },
  {
   "cell_type": "code",
   "execution_count": 26,
   "metadata": {},
   "outputs": [
    {
     "name": "stdout",
     "output_type": "stream",
     "text": [
      "('Banana', '12 unidades')\n",
      "('Ovo', '80 unidades')\n",
      "('Aveia', '2 caixas')\n",
      "('Peito de Frango', '5 kgs')\n"
     ]
    }
   ],
   "source": [
    "for produto in Produto.items():\n",
    "    print(produto)   "
   ]
  },
  {
   "cell_type": "code",
   "execution_count": 53,
   "metadata": {},
   "outputs": [],
   "source": [
    "lista_compra = {\n",
    "    'bolacha': {'qtde': 2, 'unidade': 'pacotes', 'tipo': 'doce'},\n",
    "    'frango': {'qtde': 5, 'unidade': 'kg', 'tipo': 'animal'},\n",
    "    'banana': {'qtde': 12, 'unidade': 'unitário', 'tipo': 'fruta'},\n",
    "    'aveia': {'qtde': 3, 'unidade': 'caixa', 'tipo': 'grão'}, \n",
    "    'ovo': {'qtde': 80, 'unidade': 'unitário', 'tipo': 'animal'},\n",
    "    'contra filé': {'qtde': 3, 'unidade': 'kg', 'tipo': 'animal'},\n",
    "    'salmão': {'qtde': 500, 'unidade': 'g', 'tipo': 'animal'}\n",
    "}"
   ]
  },
  {
   "cell_type": "code",
   "execution_count": 54,
   "metadata": {},
   "outputs": [
    {
     "name": "stdout",
     "output_type": "stream",
     "text": [
      "Produto: bolacha - Quantidade: 2 - pacotes - doce\n",
      "Produto: frango - Quantidade: 5 - kg - animal\n",
      "Produto: banana - Quantidade: 12 - unitário - fruta\n",
      "Produto: aveia - Quantidade: 3 - caixa - grão\n",
      "Produto: ovo - Quantidade: 80 - unitário - animal\n",
      "Produto: contra filé - Quantidade: 3 - kg - animal\n",
      "Produto: salmão - Quantidade: 500 - g - animal\n"
     ]
    }
   ],
   "source": [
    "for item, unidade_medida in lista_compra.items():\n",
    "\n",
    "    #print(item, \" # \", unidade_medida)\n",
    "    qtde = unidade_medida['qtde']\n",
    "    unidade = unidade_medida['unidade']\n",
    "    tipo = unidade_medida['tipo']\n",
    "    print(f'Produto: {item} - Quantidade: {qtde} - {unidade} - {tipo}')"
   ]
  },
  {
   "cell_type": "code",
   "execution_count": 57,
   "metadata": {},
   "outputs": [
    {
     "name": "stdout",
     "output_type": "stream",
     "text": [
      "Produto: frango - Quantidade: 5 - kg - animal\n",
      "Produto: ovo - Quantidade: 80 - unitário - animal\n",
      "Produto: contra filé - Quantidade: 3 - kg - animal\n",
      "Produto: salmão - Quantidade: 500 - g - animal\n"
     ]
    }
   ],
   "source": [
    "for item, unidade_medida in lista_compra.items():\n",
    "\n",
    "    qtde = unidade_medida['qtde']\n",
    "    unidade = unidade_medida['unidade']\n",
    "    tipo = unidade_medida['tipo']\n",
    "\n",
    "    if tipo == 'animal':\n",
    "        print(f'Produto: {item} - Quantidade: {qtde} - {unidade} - {tipo}')"
   ]
  },
  {
   "cell_type": "code",
   "execution_count": 58,
   "metadata": {},
   "outputs": [
    {
     "data": {
      "text/plain": [
       "<filter at 0x289a10a7ca0>"
      ]
     },
     "execution_count": 58,
     "metadata": {},
     "output_type": "execute_result"
    }
   ],
   "source": [
    "filter(lambda x: x , lista_compra.items())"
   ]
  },
  {
   "cell_type": "code",
   "execution_count": null,
   "metadata": {},
   "outputs": [],
   "source": []
  }
 ],
 "metadata": {
  "kernelspec": {
   "display_name": "Python 3",
   "language": "python",
   "name": "python3"
  },
  "language_info": {
   "codemirror_mode": {
    "name": "ipython",
    "version": 3
   },
   "file_extension": ".py",
   "mimetype": "text/x-python",
   "name": "python",
   "nbconvert_exporter": "python",
   "pygments_lexer": "ipython3",
   "version": "3.11.4"
  },
  "orig_nbformat": 4
 },
 "nbformat": 4,
 "nbformat_minor": 2
}
